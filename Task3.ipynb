{
  "nbformat": 4,
  "nbformat_minor": 0,
  "metadata": {
    "colab": {
      "provenance": []
    },
    "kernelspec": {
      "name": "python3",
      "display_name": "Python 3"
    },
    "language_info": {
      "name": "python"
    },
    "accelerator": "TPU"
  },
  "cells": [
    {
      "cell_type": "code",
      "source": [
        "!pip install tensorflow==2.14.0"
      ],
      "metadata": {
        "id": "1C4qozHalQsI"
      },
      "execution_count": null,
      "outputs": []
    },
    {
      "cell_type": "code",
      "source": [
        "from transformers import AutoTokenizer, AutoModelForSeq2SeqLM\n",
        "\n",
        "model_s = AutoModelForSeq2SeqLM.from_pretrained(\"google/flan-t5-base\")\n",
        "tokenizer_s = AutoTokenizer.from_pretrained(\"google/flan-t5-base\")\n",
        "\n",
        "def summarize_en(text: str) -> str:\n",
        "    inputs = tokenizer_s(text, return_tensors=\"pt\")\n",
        "    outputs = model_s.generate(**inputs, max_new_tokens=70)\n",
        "    return tokenizer_s.batch_decode(outputs, skip_special_tokens=True)[0]"
      ],
      "metadata": {
        "id": "uE8-rKBUuFH8"
      },
      "execution_count": 105,
      "outputs": []
    },
    {
      "cell_type": "code",
      "source": [
        "from random import choice\n",
        "\n",
        "num_of_prints=5\n",
        "\n",
        "prompts = [\n",
        "         \"In other words: \",\n",
        "         \"Rephrase this sentence: \",\n",
        "         \"Paraphrase this sentence: \",\n",
        "         \"Rewrite the this sentence: \",\n",
        "         \"The meaning of this sentence: \"\n",
        "         \"Modify this sentence \",\n",
        "         \"Modification of this sentence is \",\n",
        "         \"To put it another way \",\n",
        "         \"In simpler terms \"\n",
        "           ]\n",
        "input_sentence = \"After your workout, remember to focus on maintaining a good water balance.\"\n",
        "#input_sentence = \"To have an excellent result on your exam, you need to hard working during semester.\"\n",
        "sentences = { input_sentence }\n",
        "sentences_toref = { input_sentence }\n",
        "iteratror = 0\n",
        "true_iter=0\n",
        "while iteratror < num_of_prints:\n",
        "  chiss_promp=choice(prompts)\n",
        "  choise_sentens=choice(list(sentences_toref))\n",
        "  rephrased_sentence = summarize_en(choise_sentens + chiss_promp)\n",
        "  true_iter+=1\n",
        "  if rephrased_sentence not in sentences:\n",
        "    iteratror += 1\n",
        "    sentences.add(rephrased_sentence)\n",
        "    sentences.add(input_sentence + \" \" + rephrased_sentence)\n",
        "    sentences_toref.add(input_sentence + \" \" + rephrased_sentence)\n",
        "    print(\"Всего сделано итераций:\", true_iter)\n",
        "    print(\"Процент хороших итераций:\", iteratror/true_iter*100, \"%\")\n",
        "    print(\"Запрос:\", chiss_promp)\n",
        "    print(\"Фраза:\", choise_sentens)\n",
        "    print(\"Вывод:\", rephrased_sentence)\n",
        "    print()"
      ],
      "metadata": {
        "colab": {
          "base_uri": "https://localhost:8080/"
        },
        "id": "vkPBZNqZuKaz",
        "outputId": "bb716c0a-d5ae-464a-d9ad-e812fe800e41"
      },
      "execution_count": 123,
      "outputs": [
        {
          "output_type": "stream",
          "name": "stdout",
          "text": [
            "Всего сделано итераций: 1\n",
            "Процент хороших итераций: 100.0 %\n",
            "Запрос: To put it another way \n",
            "Фраза: After your workout, remember to focus on maintaining a good water balance.\n",
            "Вывод: Keeping your body hydrated is important for a healthy body.\n",
            "\n",
            "Всего сделано итераций: 5\n",
            "Процент хороших итераций: 40.0 %\n",
            "Запрос: In other words: \n",
            "Фраза: After your workout, remember to focus on maintaining a good water balance. Keeping your body hydrated is important for a healthy body.\n",
            "Вывод: Drink plenty of water after your workout.\n",
            "\n",
            "Всего сделано итераций: 6\n",
            "Процент хороших итераций: 50.0 %\n",
            "Запрос: In simpler terms \n",
            "Фраза: After your workout, remember to focus on maintaining a good water balance. Keeping your body hydrated is important for a healthy body.\n",
            "Вывод: Drinking water is important for your body to stay hydrated.\n",
            "\n",
            "Всего сделано итераций: 7\n",
            "Процент хороших итераций: 57.14285714285714 %\n",
            "Запрос: In simpler terms \n",
            "Фраза: After your workout, remember to focus on maintaining a good water balance.\n",
            "Вывод: After your workout, drink plenty of water.\n",
            "\n",
            "Всего сделано итераций: 14\n",
            "Процент хороших итераций: 35.714285714285715 %\n",
            "Запрос: To put it another way \n",
            "Фраза: After your workout, remember to focus on maintaining a good water balance. Drink plenty of water after your workout.\n",
            "Вывод: Drinking water can help you stay hydrated and stay hydrated throughout the day.\n",
            "\n"
          ]
        }
      ]
    },
    {
      "cell_type": "code",
      "source": [],
      "metadata": {
        "id": "kmuwPocyuqFK"
      },
      "execution_count": null,
      "outputs": []
    }
  ]
}